{
 "cells": [
  {
   "cell_type": "code",
   "execution_count": 1,
   "id": "e4e2a672-57fb-4f0e-a07a-de7d495d7769",
   "metadata": {},
   "outputs": [],
   "source": [
    "from neuropy import core"
   ]
  },
  {
   "cell_type": "code",
   "execution_count": null,
   "id": "448046a8-61c3-4cb7-adb2-b20ebee94ecd",
   "metadata": {},
   "outputs": [],
   "source": []
  }
 ],
 "metadata": {
  "kernelspec": {
   "display_name": "Python 3 (ipykernel)",
   "language": "python",
   "name": "python3"
  },
  "language_info": {
   "codemirror_mode": {
    "name": "ipython",
    "version": 3
   },
   "file_extension": ".py",
   "mimetype": "text/x-python",
   "name": "python",
   "nbconvert_exporter": "python",
   "pygments_lexer": "ipython3",
   "version": "3.11.10"
  }
 },
 "nbformat": 4,
 "nbformat_minor": 5
}
