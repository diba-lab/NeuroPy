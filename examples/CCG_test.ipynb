{
 "cells": [
  {
   "cell_type": "markdown",
   "id": "6240cd9c-312c-4394-9bc0-aa72f41c7677",
   "metadata": {},
   "source": [
    "First, import data to compare (neuron 20 vs 45 for 'RoyMaze1' session from Hiro dataset)."
   ]
  },
  {
   "cell_type": "code",
   "execution_count": 1,
   "id": "352d5453-bad8-46b3-b69d-1581416382d2",
   "metadata": {},
   "outputs": [
    {
     "name": "stderr",
     "output_type": "stream",
     "text": [
      "/home/nkinsky/miniforge3/envs/NeuroPy/lib/python3.11/site-packages/outdated/utils.py:14: OutdatedPackageWarning: The package pingouin is out of date. Your version is 0.5.3, the latest is 0.5.5.\n",
      "Set the environment variable OUTDATED_IGNORE=1 to disable these warnings.\n",
      "  return warn(\n"
     ]
    }
   ],
   "source": [
    "# Import all the functions you need\n",
    "%load_ext autoreload\n",
    "%autoreload 2\n",
    "\n",
    "import numpy as np\n",
    "import matplotlib.pyplot as plt\n",
    "import seaborn as sns\n",
    "import pandas as pd\n",
    "import sys\n",
    "import os\n",
    "from pathlib import Path\n",
    "import platform\n",
    "\n",
    "# Comment here to add in for either mac or linux computer\n",
    "if platform.system() == 'Linux': # for linux\n",
    "    sys.path.extend(['/data/GitHub/NeuroPy']) \n",
    "elif platform.system() == 'Darwin':\n",
    "    sys.path.extend(['/Users/nkinsky/Documents/UM/GitHub/NeuroPy'])\n",
    "elif platform.system() == 'Windows':\n",
    "    pass\n",
    "\n",
    "import neuropy.analyses.correlations as ccg\n",
    "from neuropy.core.neurons import Neurons"
   ]
  },
  {
   "cell_type": "markdown",
   "id": "cf29bfff-60cb-4799-8f52-067061f29ef9",
   "metadata": {},
   "source": [
    "### Load in data from MATLAB"
   ]
  },
  {
   "cell_type": "code",
   "execution_count": 2,
   "id": "18880c77",
   "metadata": {},
   "outputs": [],
   "source": [
    "from scipy.io import loadmat\n",
    "\n",
    "filepath = '/data/Working/Other_Peoples_Data/HiroData/wake_new/wake-spikes.mat'\n",
    "session = 'RoyMaze1'\n",
    "\n",
    "mat_in = loadmat(filepath, squeeze_me=True, struct_as_record=False)"
   ]
  },
  {
   "cell_type": "markdown",
   "id": "800fecc5",
   "metadata": {},
   "source": [
    "## Organize and wrangle into NeuroPy format"
   ]
  },
  {
   "cell_type": "code",
   "execution_count": 3,
   "id": "d0300c74",
   "metadata": {},
   "outputs": [],
   "source": [
    "# Import specific neuron spiketrains from .mat file\n",
    "neurons = [19, 44]\n",
    "spikes_use = [mat_in['spikes'].RoyMaze1[neuron] for neuron in neurons]"
   ]
  },
  {
   "cell_type": "code",
   "execution_count": 4,
   "id": "951edd7e",
   "metadata": {},
   "outputs": [],
   "source": [
    "# Convert to NeuroPy format\n",
    "time_to_sec = 1/(1000*1000)  # Hiro data times are in microseconds\n",
    "spiketrains = [a.time * time_to_sec for a in spikes_use]\n",
    "\n",
    "neurons_use = Neurons(spiketrains=spiketrains, t_start=68368, t_stop=103720)"
   ]
  },
  {
   "cell_type": "markdown",
   "id": "e6539d9e",
   "metadata": {},
   "source": [
    "### Now, run ccg and plot it!"
   ]
  },
  {
   "cell_type": "code",
   "execution_count": 5,
   "id": "48b43347-57c3-4f36-ad14-3d52913eaa6d",
   "metadata": {},
   "outputs": [
    {
     "data": {
      "image/png": "[encoded data removed]",
      "text/plain": [
       "<Figure size 640x480 with 1 Axes>"
      ]
     },
     "metadata": {},
     "output_type": "display_data"
    }
   ],
   "source": [
    "# run ccg\n",
    "window_size, bin_size = 0.007, 1/30000\n",
    "ccg_use = ccg.spike_correlations(neurons_use, [0, 1], window_size=window_size, bin_size=bin_size, sample_rate=30000, use_cupy=False)\n",
    "\n",
    "# plot ccg\n",
    "bins = np.linspace(-window_size/2, window_size/2, num=int(window_size/bin_size + 1))\n",
    "sns.barplot(x=bins, y=ccg_use[1,0,:])\n",
    "sns.despine()"
   ]
  },
  {
   "cell_type": "markdown",
   "id": "1367f411-c7a9-4a64-b837-9e18dc7897c0",
   "metadata": {},
   "source": [
    "### Here is sample code to run with GPU accelration using CuPy. However, functionality is broken and will need debugging to get working!"
   ]
  },
  {
   "cell_type": "code",
   "execution_count": null,
   "id": "ebdcaccd-dc01-4c26-8456-0db8af157503",
   "metadata": {},
   "outputs": [],
   "source": [
    "# run ccg\n",
    "# window_size, bin_size = 0.007, 1/30000\n",
    "# ccg_use = ccg.spike_correlations(neurons_use, [0, 1], window_size=window_size, bin_size=bin_size, sample_rate=30000, use_cupy=True)\n",
    "\n",
    "# # plot ccg\n",
    "# bins = np.linspace(-window_size/2, window_size/2, num=int(window_size/bin_size + 1))\n",
    "# sns.barplot(x=bins, y=ccg_use[1,0,:])\n",
    "# sns.despine()"
   ]
  },
  {
   "cell_type": "markdown",
   "id": "a8f059a2-0bf5-4f8d-83f3-fca956404098",
   "metadata": {},
   "source": [
    "### Run a different neuron pair and subselect only MAZE running times"
   ]
  },
  {
   "cell_type": "code",
   "execution_count": 38,
   "id": "e3cbe29f-6c2d-4bb4-a860-a45f1fb9e2ff",
   "metadata": {},
   "outputs": [
    {
     "data": {
      "image/png": "[encoded data removed]",
      "text/plain": [
       "<Figure size 640x480 with 1 Axes>"
      ]
     },
     "metadata": {},
     "output_type": "display_data"
    }
   ],
   "source": [
    "# Import specific neuron spiketrains from .mat file\n",
    "neurons = [112, 121]\n",
    "\n",
    "# Get start and stop times from maze - these are located in the second row of wake-behavior.mat in the same folder as wake_spikes.mat.\n",
    "t_start_maze = 79368\n",
    "t_stop_maze = 90199\n",
    "\n",
    "spikes_use = [mat_in['spikes'].RoyMaze1[neuron] for neuron in neurons]\n",
    "\n",
    "# Convert to NeuroPy format\n",
    "time_to_sec = 1/(1000*1000)  # Hiro data times are in microseconds\n",
    "spiketrains = [a.time * time_to_sec for a in spikes_use]\n",
    "neurons_use = Neurons(spiketrains=spiketrains, t_start=68368, t_stop=103720)\n",
    "\n",
    "# Now grab only times on maze\n",
    "neurons_use = neurons_use.time_slice(t_start=t_start_maze, t_stop=t_stop_maze)\n",
    "\n",
    "# run ccg\n",
    "window_size, bin_size = 0.02, 0.0005\n",
    "ccg_use = ccg.spike_correlations(neurons_use, [0, 1], window_size=window_size, bin_size=bin_size, sample_rate=30000, use_cupy=False)\n",
    "\n",
    "# plot ccg\n",
    "_, ax = plt.subplots()\n",
    "bins = np.linspace(-window_size/2, window_size/2, num=int(window_size/bin_size + 1))\n",
    "ax.bar(x=bins, height=ccg_use[0, 1, :].squeeze(), width=bin_size)\n",
    "sns.despine()"
   ]
  }
 ],
 "metadata": {
  "kernelspec": {
   "display_name": "Python 3 (ipykernel)",
   "language": "python",
   "name": "python3"
  },
  "language_info": {
   "codemirror_mode": {
    "name": "ipython",
    "version": 3
   },
   "file_extension": ".py",
   "mimetype": "text/x-python",
   "name": "python",
   "nbconvert_exporter": "python",
   "pygments_lexer": "ipython3",
   "version": "3.11.6"
  },
  "widgets": {
   "application/vnd.jupyter.widget-state+json": {
    "state": {},
    "version_major": 2,
    "version_minor": 0
   }
  }
 },
 "nbformat": 4,
 "nbformat_minor": 5
}
