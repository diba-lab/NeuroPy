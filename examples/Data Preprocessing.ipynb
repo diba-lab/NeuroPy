{
 "cells": [
  {
   "cell_type": "markdown",
   "metadata": {},
   "source": [
    "Rough outline only. Goal is to have a clear documentation of the workflow required to set up a session!"
   ]
  },
  {
   "cell_type": "markdown",
   "metadata": {},
   "source": [
    "Export .fbx and .csv header from Motive, or just whole .csv file. Video too!  Put them in which folder?"
   ]
  },
  {
   "cell_type": "markdown",
   "metadata": {},
   "source": [
    "Concatenate all .dat files together.   \n",
    "`Add in bash code here`"
   ]
  },
  {
   "cell_type": "markdown",
   "metadata": {},
   "source": [
    "Resample to create .eeg file.  \n",
    "`Add in bash code here along with steps for creating NDplugins`"
   ]
  },
  {
   "cell_type": "markdown",
   "metadata": {},
   "source": [
    "Scroll through both in Neuroscope to make sure things look ok."
   ]
  },
  {
   "cell_type": "markdown",
   "metadata": {},
   "source": [
    "Add in probe configuration (and/or copy over from a previous session to .xml file).  \n",
    "Mark bad electrodes as ?? and auxiliary channels as ?? (Show screenshot)."
   ]
  },
  {
   "cell_type": "markdown",
   "metadata": {},
   "source": [
    "Set up spyking circus (e.g. folder name, where to put files, etc.)  \n",
    "  \n",
    "MAKE SURE YOU HAVE YOUR .dat file backed up since spyking-circus will OVERWRITE it during processing..."
   ]
  },
  {
   "cell_type": "markdown",
   "metadata": {},
   "source": [
    "Run spyking circus.  \n",
    "`bash code snippets here`  \n",
    "Example parameters to tweak.  \n"
   ]
  },
  {
   "cell_type": "markdown",
   "metadata": {},
   "source": [
    "How to exclude stimulation artifact!!!"
   ]
  },
  {
   "cell_type": "markdown",
   "metadata": {},
   "source": [
    "(How to convert afterward)"
   ]
  },
  {
   "cell_type": "markdown",
   "metadata": {},
   "source": [
    "Refine clusters in phy.  \n",
    "`code sample to get started here`\n",
    "(Put in examples of a good and bad clusters and how to denote pyr = 1,2,3, mua = 6, and interneurons = 8)"
   ]
  },
  {
   "cell_type": "markdown",
   "metadata": {},
   "source": [
    "Move to Python API!!! Link to other notebook(s) from here..."
   ]
  }
 ],
 "metadata": {
  "kernelspec": {
   "display_name": "Python 3 (ipykernel)",
   "language": "python",
   "name": "python3"
  },
  "language_info": {
   "codemirror_mode": {
    "name": "ipython",
    "version": 3
   },
   "file_extension": ".py",
   "mimetype": "text/x-python",
   "name": "python",
   "nbconvert_exporter": "python",
   "pygments_lexer": "ipython3",
   "version": "3.11.10"
  }
 },
 "nbformat": 4,
 "nbformat_minor": 4
}
