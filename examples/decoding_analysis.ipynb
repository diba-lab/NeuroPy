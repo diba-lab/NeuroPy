{
 "cells": [
  {
   "cell_type": "markdown",
   "metadata": {},
   "source": [
    "### First point to datafolder"
   ]
  },
  {
   "cell_type": "code",
   "execution_count": 1,
   "metadata": {},
   "outputs": [],
   "source": [
    "from callfunc import processData\n",
    "basepath = '/data/Clustering/SleepDeprivation/RatS/Day3SD/'\n",
    "sess = processData(basepath)"
   ]
  },
  {
   "cell_type": "markdown",
   "metadata": {},
   "source": [
    "### Calculate ratemaps\n",
    "Assuming you have already set `track` epochs using `sess.tracks.create()`, we can caclulate ratemaps for track running. Here we are caclulating ratemaps for `maze1` where the animal was running on a circular track."
   ]
  },
  {
   "cell_type": "code",
   "execution_count": 2,
   "metadata": {},
   "outputs": [
    {
     "name": "stdout",
     "output_type": "stream",
     "text": [
      " using forward running only\n"
     ]
    }
   ],
   "source": [
    "sess.placefield.pf1d.compute('maze1',run_dir='forward')"
   ]
  },
  {
   "cell_type": "markdown",
   "metadata": {},
   "source": [
    "### Estimate behavior\n",
    "Now once the ratemamps have been calculated, we can estimate animals location on the track using neural activity."
   ]
  },
  {
   "cell_type": "code",
   "execution_count": null,
   "metadata": {},
   "outputs": [],
   "source": [
    "%matplotlib inline\n",
    "sess.decode.bayes1d.estimate_behavior(binsize=0.25,smooth=3)"
   ]
  },
  {
   "cell_type": "markdown",
   "metadata": {},
   "source": [
    "### We can decode events\n",
    "\n",
    "Here we will be decoding ripple events"
   ]
  },
  {
   "cell_type": "code",
   "execution_count": null,
   "metadata": {},
   "outputs": [],
   "source": [
    "rpls = sess.ripple.events # assuming you have already detected ripple events\n",
    "sess.decode.bayes1d.events = rpls # set events for bayes1d\n",
    "sess.decode.bayes1d.decode_events(binsize=0.02)"
   ]
  }
 ],
 "metadata": {
  "kernelspec": {
   "display_name": "Python 3 (ipykernel)",
   "language": "python",
   "name": "python3"
  },
  "language_info": {
   "codemirror_mode": {
    "name": "ipython",
    "version": 3
   },
   "file_extension": ".py",
   "mimetype": "text/x-python",
   "name": "python",
   "nbconvert_exporter": "python",
   "pygments_lexer": "ipython3",
   "version": "3.11.6"
  },
  "widgets": {
   "application/vnd.jupyter.widget-state+json": {
    "state": {},
    "version_major": 2,
    "version_minor": 0
   }
  }
 },
 "nbformat": 4,
 "nbformat_minor": 4
}
