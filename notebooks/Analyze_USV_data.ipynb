{
 "cells": [
  {
   "cell_type": "code",
   "execution_count": 1,
   "id": "aaee5735-6bfd-44a7-b1c8-7af20b73db3d",
   "metadata": {},
   "outputs": [],
   "source": [
    "# Import all the functions you need\n",
    "%load_ext autoreload\n",
    "%autoreload 2\n",
    "\n",
    "import numpy as np\n",
    "import matplotlib.pyplot as plt\n",
    "import seaborn as sns\n",
    "import pandas as pd\n",
    "import sys\n",
    "import os\n",
    "from pathlib import Path\n",
    "import platform\n",
    "\n",
    "# Comment here to add in for either mac or linux computer\n",
    "if platform.system() == 'Linux': # for linux\n",
    "    sys.path.extend(['/data/GitHub/NeuroPy']) \n",
    "    sys.path.extend(['/data/GitHub/TraceFC/'])\n",
    "elif platform.system() == 'Darwin':\n",
    "    sys.path.extend(['/Users/nkinsky/Documents/UM/GitHub/NeuroPy'])\n",
    "    sys.path.extend(['/Users/nkinsky/Documents/UM/GitHub/TraceFC'])\n",
    "elif platform.system() == 'Windows':\n",
    "    pass\n",
    "\n",
    "from neuropy import core\n",
    "from neuropy.io import (optitrackio,\n",
    "                        dlcio,\n",
    "                        )\n",
    "from neuropy.io.neuroscopeio import NeuroscopeIO\n",
    "from neuropy.io.binarysignalio import BinarysignalIO \n",
    "from neuropy.io.miniscopeio import MiniscopeIO\n",
    "from neuropy.core import Epoch\n",
    "from neuropy.utils import plot_util\n",
    "from neuropy.plotting.spikes import plot_raster\n",
    "from neuropy.plotting.signals import plot_signal_w_epochs\n",
    "from neuropy.plotting.spikes import plot_binned_raster"
   ]
  },
  {
   "cell_type": "markdown",
   "id": "0edc5392-8537-40be-b719-d94aea56069c",
   "metadata": {},
   "source": [
    "## Import USV data from DeepSqueak\n",
    "First, you need to run `Calls2python.m` to convert your DeepSqueak .mat file to something readable by Python"
   ]
  },
  {
   "cell_type": "code",
   "execution_count": 5,
   "id": "486261e6-912d-41b1-adb2-9289bc180efc",
   "metadata": {},
   "outputs": [
    {
     "ename": "OSError",
     "evalue": "Reader needs file name or open file-like object",
     "output_type": "error",
     "traceback": [
      "\u001b[0;31m---------------------------------------------------------------------------\u001b[0m",
      "\u001b[0;31mFileNotFoundError\u001b[0m                         Traceback (most recent call last)",
      "File \u001b[0;32m~/miniconda3/envs/NeuroPy/lib/python3.9/site-packages/scipy/io/matlab/mio.py:39\u001b[0m, in \u001b[0;36m_open_file\u001b[0;34m(file_like, appendmat, mode)\u001b[0m\n\u001b[1;32m     38\u001b[0m \u001b[38;5;28;01mtry\u001b[39;00m:\n\u001b[0;32m---> 39\u001b[0m     \u001b[38;5;28;01mreturn\u001b[39;00m \u001b[38;5;28;43mopen\u001b[39;49m\u001b[43m(\u001b[49m\u001b[43mfile_like\u001b[49m\u001b[43m,\u001b[49m\u001b[43m \u001b[49m\u001b[43mmode\u001b[49m\u001b[43m)\u001b[49m, \u001b[38;5;28;01mTrue\u001b[39;00m\n\u001b[1;32m     40\u001b[0m \u001b[38;5;28;01mexcept\u001b[39;00m \u001b[38;5;167;01mIOError\u001b[39;00m \u001b[38;5;28;01mas\u001b[39;00m e:\n\u001b[1;32m     41\u001b[0m     \u001b[38;5;66;03m# Probably \"not found\"\u001b[39;00m\n",
      "\u001b[0;31mFileNotFoundError\u001b[0m: [Errno 2] No such file or directory: '/data2/Trace_FC/Recording_Rats/Han/2022_08_03_training/2_training/USVdetections/T0000001 2023-10-04 2_59 PM.mat'",
      "\nThe above exception was the direct cause of the following exception:\n",
      "\u001b[0;31mOSError\u001b[0m                                   Traceback (most recent call last)",
      "Cell \u001b[0;32mIn[5], line 3\u001b[0m\n\u001b[1;32m      1\u001b[0m \u001b[38;5;28;01mimport\u001b[39;00m \u001b[38;5;21;01mneuropy\u001b[39;00m\u001b[38;5;21;01m.\u001b[39;00m\u001b[38;5;21;01mio\u001b[39;00m\u001b[38;5;21;01m.\u001b[39;00m\u001b[38;5;21;01musvio\u001b[39;00m \u001b[38;5;28;01mas\u001b[39;00m \u001b[38;5;21;01musvio\u001b[39;00m\n\u001b[1;32m      2\u001b[0m base_dir \u001b[38;5;241m=\u001b[39m Path(\u001b[38;5;124m'\u001b[39m\u001b[38;5;124m/data2/Trace_FC/Recording_Rats/Han/2022_08_03_training/2_training/USVdetections\u001b[39m\u001b[38;5;124m'\u001b[39m)\n\u001b[0;32m----> 3\u001b[0m ds \u001b[38;5;241m=\u001b[39m \u001b[43musvio\u001b[49m\u001b[38;5;241;43m.\u001b[39;49m\u001b[43mDeepSqueakIO\u001b[49m\u001b[43m(\u001b[49m\u001b[43mbase_dir\u001b[49m\u001b[43m \u001b[49m\u001b[38;5;241;43m/\u001b[39;49m\u001b[43m \u001b[49m\u001b[38;5;124;43m'\u001b[39;49m\u001b[38;5;124;43mT0000001 2023-10-04 2_59 PM.mat\u001b[39;49m\u001b[38;5;124;43m'\u001b[39;49m\u001b[43m)\u001b[49m  \u001b[38;5;66;03m# Load in calls\u001b[39;00m\n",
      "File \u001b[0;32m/data/GitHub/NeuroPy/neuropy/io/usvio.py:21\u001b[0m, in \u001b[0;36mDeepSqueakIO.__init__\u001b[0;34m(self, filename)\u001b[0m\n\u001b[1;32m     18\u001b[0m \u001b[38;5;28mself\u001b[39m\u001b[38;5;241m.\u001b[39mfilename \u001b[38;5;241m=\u001b[39m filename\n\u001b[1;32m     19\u001b[0m \u001b[38;5;28mself\u001b[39m\u001b[38;5;241m.\u001b[39musv_df \u001b[38;5;241m=\u001b[39m \u001b[38;5;28;01mNone\u001b[39;00m\n\u001b[0;32m---> 21\u001b[0m \u001b[38;5;28;43mself\u001b[39;49m\u001b[38;5;241;43m.\u001b[39;49m\u001b[43mload_calls\u001b[49m\u001b[43m(\u001b[49m\u001b[43mfilename\u001b[49m\u001b[43m)\u001b[49m\n",
      "File \u001b[0;32m/data/GitHub/NeuroPy/neuropy/io/usvio.py:28\u001b[0m, in \u001b[0;36mDeepSqueakIO.load_calls\u001b[0;34m(self, filename, keys_ignore)\u001b[0m\n\u001b[1;32m     24\u001b[0m \u001b[38;5;250m\u001b[39m\u001b[38;5;124;03m\"\"\"Loads calls from DeepSqueak that have been made MATLAB compatible by running the MATLAB function\u001b[39;00m\n\u001b[1;32m     25\u001b[0m \u001b[38;5;124;03mCalls2python located in the neuropy.io folder\"\"\"\u001b[39;00m\n\u001b[1;32m     27\u001b[0m \u001b[38;5;66;03m# Load in file and grab keys and data\u001b[39;00m\n\u001b[0;32m---> 28\u001b[0m mat_in \u001b[38;5;241m=\u001b[39m \u001b[43mloadmat\u001b[49m\u001b[43m(\u001b[49m\u001b[43mfilename\u001b[49m\u001b[43m,\u001b[49m\u001b[43m \u001b[49m\u001b[43msimplify_cells\u001b[49m\u001b[38;5;241;43m=\u001b[39;49m\u001b[38;5;28;43;01mTrue\u001b[39;49;00m\u001b[43m)\u001b[49m\n\u001b[1;32m     29\u001b[0m data \u001b[38;5;241m=\u001b[39m mat_in[\n\u001b[1;32m     30\u001b[0m     \u001b[38;5;28mlist\u001b[39m(mat_in\u001b[38;5;241m.\u001b[39mkeys())[\n\u001b[1;32m     31\u001b[0m         np\u001b[38;5;241m.\u001b[39mwhere([\u001b[38;5;124m\"\u001b[39m\u001b[38;5;124mdata\u001b[39m\u001b[38;5;124m\"\u001b[39m \u001b[38;5;129;01min\u001b[39;00m key \u001b[38;5;28;01mfor\u001b[39;00m key \u001b[38;5;129;01min\u001b[39;00m mat_in\u001b[38;5;241m.\u001b[39mkeys()])[\u001b[38;5;241m0\u001b[39m][\u001b[38;5;241m0\u001b[39m]\n\u001b[1;32m     32\u001b[0m     ]\n\u001b[1;32m     33\u001b[0m ]\u001b[38;5;241m.\u001b[39mT\n\u001b[1;32m     34\u001b[0m keys \u001b[38;5;241m=\u001b[39m mat_in[\n\u001b[1;32m     35\u001b[0m     \u001b[38;5;28mlist\u001b[39m(mat_in\u001b[38;5;241m.\u001b[39mkeys())[\n\u001b[1;32m     36\u001b[0m         np\u001b[38;5;241m.\u001b[39mwhere([\u001b[38;5;124m\"\u001b[39m\u001b[38;5;124mkeys\u001b[39m\u001b[38;5;124m\"\u001b[39m \u001b[38;5;129;01min\u001b[39;00m key \u001b[38;5;28;01mfor\u001b[39;00m key \u001b[38;5;129;01min\u001b[39;00m mat_in\u001b[38;5;241m.\u001b[39mkeys()])[\u001b[38;5;241m0\u001b[39m][\u001b[38;5;241m0\u001b[39m]\n\u001b[1;32m     37\u001b[0m     ]\n\u001b[1;32m     38\u001b[0m ]\n",
      "File \u001b[0;32m~/miniconda3/envs/NeuroPy/lib/python3.9/site-packages/scipy/io/matlab/mio.py:224\u001b[0m, in \u001b[0;36mloadmat\u001b[0;34m(file_name, mdict, appendmat, **kwargs)\u001b[0m\n\u001b[1;32m     87\u001b[0m \u001b[38;5;250m\u001b[39m\u001b[38;5;124;03m\"\"\"\u001b[39;00m\n\u001b[1;32m     88\u001b[0m \u001b[38;5;124;03mLoad MATLAB file.\u001b[39;00m\n\u001b[1;32m     89\u001b[0m \n\u001b[0;32m   (...)\u001b[0m\n\u001b[1;32m    221\u001b[0m \u001b[38;5;124;03m    3.14159265+3.14159265j])\u001b[39;00m\n\u001b[1;32m    222\u001b[0m \u001b[38;5;124;03m\"\"\"\u001b[39;00m\n\u001b[1;32m    223\u001b[0m variable_names \u001b[38;5;241m=\u001b[39m kwargs\u001b[38;5;241m.\u001b[39mpop(\u001b[38;5;124m'\u001b[39m\u001b[38;5;124mvariable_names\u001b[39m\u001b[38;5;124m'\u001b[39m, \u001b[38;5;28;01mNone\u001b[39;00m)\n\u001b[0;32m--> 224\u001b[0m \u001b[38;5;28;01mwith\u001b[39;00m _open_file_context(file_name, appendmat) \u001b[38;5;28;01mas\u001b[39;00m f:\n\u001b[1;32m    225\u001b[0m     MR, _ \u001b[38;5;241m=\u001b[39m mat_reader_factory(f, \u001b[38;5;241m*\u001b[39m\u001b[38;5;241m*\u001b[39mkwargs)\n\u001b[1;32m    226\u001b[0m     matfile_dict \u001b[38;5;241m=\u001b[39m MR\u001b[38;5;241m.\u001b[39mget_variables(variable_names)\n",
      "File \u001b[0;32m~/miniconda3/envs/NeuroPy/lib/python3.9/contextlib.py:119\u001b[0m, in \u001b[0;36m_GeneratorContextManager.__enter__\u001b[0;34m(self)\u001b[0m\n\u001b[1;32m    117\u001b[0m \u001b[38;5;28;01mdel\u001b[39;00m \u001b[38;5;28mself\u001b[39m\u001b[38;5;241m.\u001b[39margs, \u001b[38;5;28mself\u001b[39m\u001b[38;5;241m.\u001b[39mkwds, \u001b[38;5;28mself\u001b[39m\u001b[38;5;241m.\u001b[39mfunc\n\u001b[1;32m    118\u001b[0m \u001b[38;5;28;01mtry\u001b[39;00m:\n\u001b[0;32m--> 119\u001b[0m     \u001b[38;5;28;01mreturn\u001b[39;00m \u001b[38;5;28;43mnext\u001b[39;49m\u001b[43m(\u001b[49m\u001b[38;5;28;43mself\u001b[39;49m\u001b[38;5;241;43m.\u001b[39;49m\u001b[43mgen\u001b[49m\u001b[43m)\u001b[49m\n\u001b[1;32m    120\u001b[0m \u001b[38;5;28;01mexcept\u001b[39;00m \u001b[38;5;167;01mStopIteration\u001b[39;00m:\n\u001b[1;32m    121\u001b[0m     \u001b[38;5;28;01mraise\u001b[39;00m \u001b[38;5;167;01mRuntimeError\u001b[39;00m(\u001b[38;5;124m\"\u001b[39m\u001b[38;5;124mgenerator didn\u001b[39m\u001b[38;5;124m'\u001b[39m\u001b[38;5;124mt yield\u001b[39m\u001b[38;5;124m\"\u001b[39m) \u001b[38;5;28;01mfrom\u001b[39;00m \u001b[38;5;28;01mNone\u001b[39;00m\n",
      "File \u001b[0;32m~/miniconda3/envs/NeuroPy/lib/python3.9/site-packages/scipy/io/matlab/mio.py:17\u001b[0m, in \u001b[0;36m_open_file_context\u001b[0;34m(file_like, appendmat, mode)\u001b[0m\n\u001b[1;32m     15\u001b[0m \u001b[38;5;129m@contextmanager\u001b[39m\n\u001b[1;32m     16\u001b[0m \u001b[38;5;28;01mdef\u001b[39;00m \u001b[38;5;21m_open_file_context\u001b[39m(file_like, appendmat, mode\u001b[38;5;241m=\u001b[39m\u001b[38;5;124m'\u001b[39m\u001b[38;5;124mrb\u001b[39m\u001b[38;5;124m'\u001b[39m):\n\u001b[0;32m---> 17\u001b[0m     f, opened \u001b[38;5;241m=\u001b[39m \u001b[43m_open_file\u001b[49m\u001b[43m(\u001b[49m\u001b[43mfile_like\u001b[49m\u001b[43m,\u001b[49m\u001b[43m \u001b[49m\u001b[43mappendmat\u001b[49m\u001b[43m,\u001b[49m\u001b[43m \u001b[49m\u001b[43mmode\u001b[49m\u001b[43m)\u001b[49m\n\u001b[1;32m     18\u001b[0m     \u001b[38;5;28;01mtry\u001b[39;00m:\n\u001b[1;32m     19\u001b[0m         \u001b[38;5;28;01myield\u001b[39;00m f\n",
      "File \u001b[0;32m~/miniconda3/envs/NeuroPy/lib/python3.9/site-packages/scipy/io/matlab/mio.py:47\u001b[0m, in \u001b[0;36m_open_file\u001b[0;34m(file_like, appendmat, mode)\u001b[0m\n\u001b[1;32m     45\u001b[0m     \u001b[38;5;28;01mreturn\u001b[39;00m \u001b[38;5;28mopen\u001b[39m(file_like, mode), \u001b[38;5;28;01mTrue\u001b[39;00m\n\u001b[1;32m     46\u001b[0m \u001b[38;5;28;01melse\u001b[39;00m:\n\u001b[0;32m---> 47\u001b[0m     \u001b[38;5;28;01mraise\u001b[39;00m \u001b[38;5;167;01mIOError\u001b[39;00m(\n\u001b[1;32m     48\u001b[0m         \u001b[38;5;124m'\u001b[39m\u001b[38;5;124mReader needs file name or open file-like object\u001b[39m\u001b[38;5;124m'\u001b[39m\n\u001b[1;32m     49\u001b[0m     ) \u001b[38;5;28;01mfrom\u001b[39;00m \u001b[38;5;21;01me\u001b[39;00m\n",
      "\u001b[0;31mOSError\u001b[0m: Reader needs file name or open file-like object"
     ]
    }
   ],
   "source": [
    "import neuropy.io.usvio as usvio\n",
    "base_dir = Path('/data2/Trace_FC/Recording_Rats/Han/2022_08_03_training/2_training/USVdetections')\n",
    "ds = usvio.DeepSqueakIO(base_dir / 'T0000001 2023-10-04 2_59 PM.mat')  # Load in calls"
   ]
  },
  {
   "cell_type": "code",
   "execution_count": 4,
   "id": "00756bb4-ce7c-4be2-8b38-64a2f19ef6f6",
   "metadata": {},
   "outputs": [
    {
     "data": {
      "text/html": [
       "<div>\n",
       "<style scoped>\n",
       "    .dataframe tbody tr th:only-of-type {\n",
       "        vertical-align: middle;\n",
       "    }\n",
       "\n",
       "    .dataframe tbody tr th {\n",
       "        vertical-align: top;\n",
       "    }\n",
       "\n",
       "    .dataframe thead th {\n",
       "        text-align: right;\n",
       "    }\n",
       "</style>\n",
       "<table border=\"1\" class=\"dataframe\">\n",
       "  <thead>\n",
       "    <tr style=\"text-align: right;\">\n",
       "      <th></th>\n",
       "      <th>Begin_Time</th>\n",
       "      <th>Freq_Min</th>\n",
       "      <th>Duration</th>\n",
       "      <th>Freq_Range</th>\n",
       "      <th>Score</th>\n",
       "      <th>Accept</th>\n",
       "    </tr>\n",
       "  </thead>\n",
       "  <tbody>\n",
       "    <tr>\n",
       "      <th>0</th>\n",
       "      <td>37.700836</td>\n",
       "      <td>39.500</td>\n",
       "      <td>0.01</td>\n",
       "      <td>10.500</td>\n",
       "      <td>0.582072</td>\n",
       "      <td>0</td>\n",
       "    </tr>\n",
       "    <tr>\n",
       "      <th>1</th>\n",
       "      <td>39.320836</td>\n",
       "      <td>39.500</td>\n",
       "      <td>0.02</td>\n",
       "      <td>10.500</td>\n",
       "      <td>0.582072</td>\n",
       "      <td>0</td>\n",
       "    </tr>\n",
       "    <tr>\n",
       "      <th>2</th>\n",
       "      <td>39.350836</td>\n",
       "      <td>39.500</td>\n",
       "      <td>0.13</td>\n",
       "      <td>10.500</td>\n",
       "      <td>0.582072</td>\n",
       "      <td>0</td>\n",
       "    </tr>\n",
       "    <tr>\n",
       "      <th>3</th>\n",
       "      <td>39.500836</td>\n",
       "      <td>39.500</td>\n",
       "      <td>0.01</td>\n",
       "      <td>10.500</td>\n",
       "      <td>0.582072</td>\n",
       "      <td>0</td>\n",
       "    </tr>\n",
       "    <tr>\n",
       "      <th>4</th>\n",
       "      <td>39.530836</td>\n",
       "      <td>39.500</td>\n",
       "      <td>0.01</td>\n",
       "      <td>10.500</td>\n",
       "      <td>0.582072</td>\n",
       "      <td>0</td>\n",
       "    </tr>\n",
       "    <tr>\n",
       "      <th>...</th>\n",
       "      <td>...</td>\n",
       "      <td>...</td>\n",
       "      <td>...</td>\n",
       "      <td>...</td>\n",
       "      <td>...</td>\n",
       "      <td>...</td>\n",
       "    </tr>\n",
       "    <tr>\n",
       "      <th>181</th>\n",
       "      <td>1785.840296</td>\n",
       "      <td>39.875</td>\n",
       "      <td>0.01</td>\n",
       "      <td>8.125</td>\n",
       "      <td>0.570376</td>\n",
       "      <td>0</td>\n",
       "    </tr>\n",
       "    <tr>\n",
       "      <th>182</th>\n",
       "      <td>1785.930296</td>\n",
       "      <td>39.875</td>\n",
       "      <td>0.02</td>\n",
       "      <td>8.125</td>\n",
       "      <td>0.570376</td>\n",
       "      <td>0</td>\n",
       "    </tr>\n",
       "    <tr>\n",
       "      <th>183</th>\n",
       "      <td>1786.230296</td>\n",
       "      <td>39.875</td>\n",
       "      <td>0.04</td>\n",
       "      <td>8.125</td>\n",
       "      <td>0.570376</td>\n",
       "      <td>0</td>\n",
       "    </tr>\n",
       "    <tr>\n",
       "      <th>184</th>\n",
       "      <td>1790.127632</td>\n",
       "      <td>39.875</td>\n",
       "      <td>0.07</td>\n",
       "      <td>8.000</td>\n",
       "      <td>0.516081</td>\n",
       "      <td>0</td>\n",
       "    </tr>\n",
       "    <tr>\n",
       "      <th>185</th>\n",
       "      <td>1790.387632</td>\n",
       "      <td>39.875</td>\n",
       "      <td>0.03</td>\n",
       "      <td>8.000</td>\n",
       "      <td>0.516081</td>\n",
       "      <td>0</td>\n",
       "    </tr>\n",
       "  </tbody>\n",
       "</table>\n",
       "<p>186 rows × 6 columns</p>\n",
       "</div>"
      ],
      "text/plain": [
       "      Begin_Time  Freq_Min  Duration  Freq_Range     Score  Accept\n",
       "0      37.700836    39.500      0.01      10.500  0.582072       0\n",
       "1      39.320836    39.500      0.02      10.500  0.582072       0\n",
       "2      39.350836    39.500      0.13      10.500  0.582072       0\n",
       "3      39.500836    39.500      0.01      10.500  0.582072       0\n",
       "4      39.530836    39.500      0.01      10.500  0.582072       0\n",
       "..           ...       ...       ...         ...       ...     ...\n",
       "181  1785.840296    39.875      0.01       8.125  0.570376       0\n",
       "182  1785.930296    39.875      0.02       8.125  0.570376       0\n",
       "183  1786.230296    39.875      0.04       8.125  0.570376       0\n",
       "184  1790.127632    39.875      0.07       8.000  0.516081       0\n",
       "185  1790.387632    39.875      0.03       8.000  0.516081       0\n",
       "\n",
       "[186 rows x 6 columns]"
      ]
     },
     "execution_count": 4,
     "metadata": {},
     "output_type": "execute_result"
    }
   ],
   "source": [
    "# Display calls in pandas format\n",
    "ds.usv_df"
   ]
  },
  {
   "cell_type": "code",
   "execution_count": 7,
   "id": "9c050667-4fbc-4be5-a740-e06e2dfef1e3",
   "metadata": {},
   "outputs": [
    {
     "data": {
      "text/html": [
       "<div>\n",
       "<style scoped>\n",
       "    .dataframe tbody tr th:only-of-type {\n",
       "        vertical-align: middle;\n",
       "    }\n",
       "\n",
       "    .dataframe tbody tr th {\n",
       "        vertical-align: top;\n",
       "    }\n",
       "\n",
       "    .dataframe thead th {\n",
       "        text-align: right;\n",
       "    }\n",
       "</style>\n",
       "<table border=\"1\" class=\"dataframe\">\n",
       "  <thead>\n",
       "    <tr style=\"text-align: right;\">\n",
       "      <th></th>\n",
       "      <th>Begin_Time</th>\n",
       "      <th>Freq_Min</th>\n",
       "      <th>Duration</th>\n",
       "      <th>Freq_Range</th>\n",
       "      <th>Score</th>\n",
       "      <th>Accept</th>\n",
       "    </tr>\n",
       "  </thead>\n",
       "  <tbody>\n",
       "    <tr>\n",
       "      <th>2</th>\n",
       "      <td>39.350836</td>\n",
       "      <td>39.500</td>\n",
       "      <td>0.130000</td>\n",
       "      <td>10.500000</td>\n",
       "      <td>0.582072</td>\n",
       "      <td>0</td>\n",
       "    </tr>\n",
       "    <tr>\n",
       "      <th>12</th>\n",
       "      <td>41.350836</td>\n",
       "      <td>39.500</td>\n",
       "      <td>0.190000</td>\n",
       "      <td>10.500000</td>\n",
       "      <td>0.582072</td>\n",
       "      <td>0</td>\n",
       "    </tr>\n",
       "    <tr>\n",
       "      <th>20</th>\n",
       "      <td>67.820836</td>\n",
       "      <td>39.500</td>\n",
       "      <td>0.210000</td>\n",
       "      <td>10.500000</td>\n",
       "      <td>0.582072</td>\n",
       "      <td>0</td>\n",
       "    </tr>\n",
       "    <tr>\n",
       "      <th>21</th>\n",
       "      <td>71.950836</td>\n",
       "      <td>39.500</td>\n",
       "      <td>0.120000</td>\n",
       "      <td>10.500000</td>\n",
       "      <td>0.582072</td>\n",
       "      <td>0</td>\n",
       "    </tr>\n",
       "    <tr>\n",
       "      <th>24</th>\n",
       "      <td>268.755447</td>\n",
       "      <td>8.000</td>\n",
       "      <td>0.239722</td>\n",
       "      <td>17.372126</td>\n",
       "      <td>0.561400</td>\n",
       "      <td>0</td>\n",
       "    </tr>\n",
       "    <tr>\n",
       "      <th>...</th>\n",
       "      <td>...</td>\n",
       "      <td>...</td>\n",
       "      <td>...</td>\n",
       "      <td>...</td>\n",
       "      <td>...</td>\n",
       "      <td>...</td>\n",
       "    </tr>\n",
       "    <tr>\n",
       "      <th>168</th>\n",
       "      <td>1772.569100</td>\n",
       "      <td>17.750</td>\n",
       "      <td>0.350000</td>\n",
       "      <td>32.125000</td>\n",
       "      <td>0.576606</td>\n",
       "      <td>0</td>\n",
       "    </tr>\n",
       "    <tr>\n",
       "      <th>172</th>\n",
       "      <td>1774.856784</td>\n",
       "      <td>39.750</td>\n",
       "      <td>0.120000</td>\n",
       "      <td>8.250000</td>\n",
       "      <td>0.583206</td>\n",
       "      <td>0</td>\n",
       "    </tr>\n",
       "    <tr>\n",
       "      <th>175</th>\n",
       "      <td>1775.426784</td>\n",
       "      <td>39.750</td>\n",
       "      <td>0.150000</td>\n",
       "      <td>8.250000</td>\n",
       "      <td>0.583206</td>\n",
       "      <td>0</td>\n",
       "    </tr>\n",
       "    <tr>\n",
       "      <th>178</th>\n",
       "      <td>1781.150296</td>\n",
       "      <td>39.875</td>\n",
       "      <td>0.240000</td>\n",
       "      <td>8.125000</td>\n",
       "      <td>0.570376</td>\n",
       "      <td>0</td>\n",
       "    </tr>\n",
       "    <tr>\n",
       "      <th>179</th>\n",
       "      <td>1785.410296</td>\n",
       "      <td>39.875</td>\n",
       "      <td>0.140000</td>\n",
       "      <td>8.125000</td>\n",
       "      <td>0.570376</td>\n",
       "      <td>0</td>\n",
       "    </tr>\n",
       "  </tbody>\n",
       "</table>\n",
       "<p>88 rows × 6 columns</p>\n",
       "</div>"
      ],
      "text/plain": [
       "      Begin_Time  Freq_Min  Duration  Freq_Range     Score  Accept\n",
       "2      39.350836    39.500  0.130000   10.500000  0.582072       0\n",
       "12     41.350836    39.500  0.190000   10.500000  0.582072       0\n",
       "20     67.820836    39.500  0.210000   10.500000  0.582072       0\n",
       "21     71.950836    39.500  0.120000   10.500000  0.582072       0\n",
       "24    268.755447     8.000  0.239722   17.372126  0.561400       0\n",
       "..           ...       ...       ...         ...       ...     ...\n",
       "168  1772.569100    17.750  0.350000   32.125000  0.576606       0\n",
       "172  1774.856784    39.750  0.120000    8.250000  0.583206       0\n",
       "175  1775.426784    39.750  0.150000    8.250000  0.583206       0\n",
       "178  1781.150296    39.875  0.240000    8.125000  0.570376       0\n",
       "179  1785.410296    39.875  0.140000    8.125000  0.570376       0\n",
       "\n",
       "[88 rows x 6 columns]"
      ]
     },
     "execution_count": 7,
     "metadata": {},
     "output_type": "execute_result"
    }
   ],
   "source": [
    "# Example code to exclude every call that last less than 0.1 second\n",
    "ds.usv_df[ds.usv_df['Duration'] > 0.1]"
   ]
  },
  {
   "cell_type": "code",
   "execution_count": 12,
   "id": "6a98654b-1e96-4d86-b455-1fc6371d69f6",
   "metadata": {},
   "outputs": [
    {
     "data": {
      "text/html": [
       "<div>\n",
       "<style scoped>\n",
       "    .dataframe tbody tr th:only-of-type {\n",
       "        vertical-align: middle;\n",
       "    }\n",
       "\n",
       "    .dataframe tbody tr th {\n",
       "        vertical-align: top;\n",
       "    }\n",
       "\n",
       "    .dataframe thead th {\n",
       "        text-align: right;\n",
       "    }\n",
       "</style>\n",
       "<table border=\"1\" class=\"dataframe\">\n",
       "  <thead>\n",
       "    <tr style=\"text-align: right;\">\n",
       "      <th></th>\n",
       "      <th>Begin_Time</th>\n",
       "      <th>Freq_Min</th>\n",
       "      <th>Duration</th>\n",
       "      <th>Freq_Range</th>\n",
       "      <th>Score</th>\n",
       "      <th>Accept</th>\n",
       "    </tr>\n",
       "  </thead>\n",
       "  <tbody>\n",
       "    <tr>\n",
       "      <th>35</th>\n",
       "      <td>447.759281</td>\n",
       "      <td>39.515805</td>\n",
       "      <td>0.128960</td>\n",
       "      <td>14.143678</td>\n",
       "      <td>0.555688</td>\n",
       "      <td>1</td>\n",
       "    </tr>\n",
       "    <tr>\n",
       "      <th>55</th>\n",
       "      <td>472.530338</td>\n",
       "      <td>18.000000</td>\n",
       "      <td>1.094482</td>\n",
       "      <td>43.346264</td>\n",
       "      <td>0.565746</td>\n",
       "      <td>1</td>\n",
       "    </tr>\n",
       "    <tr>\n",
       "      <th>50</th>\n",
       "      <td>464.785183</td>\n",
       "      <td>26.294540</td>\n",
       "      <td>0.408357</td>\n",
       "      <td>41.816092</td>\n",
       "      <td>1.000000</td>\n",
       "      <td>1</td>\n",
       "    </tr>\n",
       "    <tr>\n",
       "      <th>135</th>\n",
       "      <td>1250.922672</td>\n",
       "      <td>14.875000</td>\n",
       "      <td>0.580000</td>\n",
       "      <td>35.125000</td>\n",
       "      <td>0.576714</td>\n",
       "      <td>1</td>\n",
       "    </tr>\n",
       "    <tr>\n",
       "      <th>37</th>\n",
       "      <td>449.350060</td>\n",
       "      <td>27.524425</td>\n",
       "      <td>0.180000</td>\n",
       "      <td>22.600575</td>\n",
       "      <td>0.555688</td>\n",
       "      <td>1</td>\n",
       "    </tr>\n",
       "  </tbody>\n",
       "</table>\n",
       "</div>"
      ],
      "text/plain": [
       "      Begin_Time   Freq_Min  Duration  Freq_Range     Score  Accept\n",
       "35    447.759281  39.515805  0.128960   14.143678  0.555688       1\n",
       "55    472.530338  18.000000  1.094482   43.346264  0.565746       1\n",
       "50    464.785183  26.294540  0.408357   41.816092  1.000000       1\n",
       "135  1250.922672  14.875000  0.580000   35.125000  0.576714       1\n",
       "37    449.350060  27.524425  0.180000   22.600575  0.555688       1"
      ]
     },
     "execution_count": 12,
     "metadata": {},
     "output_type": "execute_result"
    }
   ],
   "source": [
    "# Only keep accepted calls\n",
    "usv_accept_df = ds.usv_df[ds.usv_df['Accept'] == 1]\n",
    "usv_accept_df.sample(5)"
   ]
  },
  {
   "cell_type": "code",
   "execution_count": null,
   "id": "bf1a9954-0c35-464e-8c04-92b216e72d9f",
   "metadata": {},
   "outputs": [],
   "source": []
  },
  {
   "cell_type": "markdown",
   "id": "555bd8e7-d274-4a65-a48e-c5155c7d5982",
   "metadata": {},
   "source": [
    "## Plots to get started with"
   ]
  },
  {
   "cell_type": "code",
   "execution_count": 19,
   "id": "44ea0b86-799c-4f9a-a4cf-d8b60362a84b",
   "metadata": {},
   "outputs": [
    {
     "data": {
      "text/plain": [
       "array([[<Axes: title={'center': 'Duration'}>]], dtype=object)"
      ]
     },
     "execution_count": 19,
     "metadata": {},
     "output_type": "execute_result"
    },
    {
     "data": {
      "image/png": "[encoded data removed]",
      "text/plain": [
       "<Figure size 640x480 with 1 Axes>"
      ]
     },
     "metadata": {},
     "output_type": "display_data"
    }
   ],
   "source": [
    "# Plot histogram of call durations\n",
    "usv_accept_df.hist(column='Duration')"
   ]
  },
  {
   "cell_type": "code",
   "execution_count": 20,
   "id": "2f752cac-c04b-4c7c-a764-8a73a74fc801",
   "metadata": {},
   "outputs": [
    {
     "data": {
      "text/plain": [
       "array([[<Axes: title={'center': 'Freq_Min'}>]], dtype=object)"
      ]
     },
     "execution_count": 20,
     "metadata": {},
     "output_type": "execute_result"
    },
    {
     "data": {
      "image/png": "[encoded data removed]",
      "text/plain": [
       "<Figure size 640x480 with 1 Axes>"
      ]
     },
     "metadata": {},
     "output_type": "display_data"
    }
   ],
   "source": [
    "# Plot histogram of call min and max frequencies\n",
    "usv_accept_df.hist(column='Freq_Min')"
   ]
  },
  {
   "cell_type": "code",
   "execution_count": 58,
   "id": "10b9ff1a-81b4-4153-a833-d2c4b3301a31",
   "metadata": {},
   "outputs": [
    {
     "data": {
      "text/plain": [
       "<Axes: xlabel='Begin_Time', ylabel='Freq_Min'>"
      ]
     },
     "execution_count": 58,
     "metadata": {},
     "output_type": "execute_result"
    },
    {
     "data": {
      "image/png": "[encoded data removed]",
      "text/plain": [
       "<Figure size 640x480 with 1 Axes>"
      ]
     },
     "metadata": {},
     "output_type": "display_data"
    }
   ],
   "source": [
    "sns.stripplot(x=usv_accept_df.Begin_Time,y=usv_accept_df.Freq_Min,jitter=0,size=8)"
   ]
  },
  {
   "cell_type": "code",
   "execution_count": 57,
   "id": "d00f55af-c278-469c-9bf6-0eff8214fd15",
   "metadata": {},
   "outputs": [
    {
     "data": {
      "text/plain": [
       "<Axes: xlabel='Begin_Time', ylabel='Duration'>"
      ]
     },
     "execution_count": 57,
     "metadata": {},
     "output_type": "execute_result"
    },
    {
     "data": {
      "image/png": "[encoded data removed]",
      "text/plain": [
       "<Figure size 640x480 with 1 Axes>"
      ]
     },
     "metadata": {},
     "output_type": "display_data"
    }
   ],
   "source": [
    "sns.barplot(x=usv_accept_df.Begin_Time,y=usv_accept_df.Duration, data=usv_accept_df)"
   ]
  },
  {
   "cell_type": "code",
   "execution_count": 71,
   "id": "b6af47d8-dcf6-4a6c-9549-e6a169e20de1",
   "metadata": {},
   "outputs": [
    {
     "data": {
      "text/plain": [
       "<Axes: xlabel='Begin_Time'>"
      ]
     },
     "execution_count": 71,
     "metadata": {},
     "output_type": "execute_result"
    },
    {
     "data": {
      "image/png": "[encoded data removed]",
      "text/plain": [
       "<Figure size 640x480 with 1 Axes>"
      ]
     },
     "metadata": {},
     "output_type": "display_data"
    }
   ],
   "source": [
    "sns.barplot(x=usv_accept_df.Begin_Time,y=usv_accept_df.Freq_Min+0.5*(usv_accept_df.Freq_Range),data=usv_accept_df)"
   ]
  },
  {
   "cell_type": "code",
   "execution_count": 74,
   "id": "0f14eef6-bfbc-4fa4-823e-a4365d20bbcd",
   "metadata": {
    "scrolled": true
   },
   "outputs": [
    {
     "ename": "ValueError",
     "evalue": "cannot insert Median Freq, already exists",
     "output_type": "error",
     "traceback": [
      "\u001b[0;31m---------------------------------------------------------------------------\u001b[0m",
      "\u001b[0;31mValueError\u001b[0m                                Traceback (most recent call last)",
      "\u001b[0;32m/tmp/ipykernel_196499/317023203.py\u001b[0m in \u001b[0;36m?\u001b[0;34m()\u001b[0m\n\u001b[0;32m----> 1\u001b[0;31m \u001b[0musv_accept_df\u001b[0m\u001b[0;34m.\u001b[0m\u001b[0minsert\u001b[0m\u001b[0;34m(\u001b[0m\u001b[0;36m4\u001b[0m\u001b[0;34m,\u001b[0m \u001b[0;34m\"Median Freq\"\u001b[0m\u001b[0;34m,\u001b[0m \u001b[0musv_accept_df\u001b[0m\u001b[0;34m.\u001b[0m\u001b[0mFreq_Min\u001b[0m\u001b[0;34m+\u001b[0m\u001b[0;36m0.5\u001b[0m\u001b[0;34m*\u001b[0m\u001b[0;34m(\u001b[0m\u001b[0musv_accept_df\u001b[0m\u001b[0;34m.\u001b[0m\u001b[0mFreq_Range\u001b[0m\u001b[0;34m)\u001b[0m\u001b[0;34m)\u001b[0m\u001b[0;34m\u001b[0m\u001b[0;34m\u001b[0m\u001b[0m\n\u001b[0m\u001b[1;32m      2\u001b[0m \u001b[0;31m# usv_accept_df\u001b[0m\u001b[0;34m\u001b[0m\u001b[0;34m\u001b[0m\u001b[0m\n",
      "\u001b[0;32m~/miniconda3/envs/NeuroPy/lib/python3.9/site-packages/pandas/core/frame.py\u001b[0m in \u001b[0;36m?\u001b[0;34m(self, loc, column, value, allow_duplicates)\u001b[0m\n\u001b[1;32m   4439\u001b[0m                 \u001b[0;34m\"'self.flags.allows_duplicate_labels' is False.\"\u001b[0m\u001b[0;34m\u001b[0m\u001b[0;34m\u001b[0m\u001b[0m\n\u001b[1;32m   4440\u001b[0m             )\n\u001b[1;32m   4441\u001b[0m         \u001b[0;32mif\u001b[0m \u001b[0;32mnot\u001b[0m \u001b[0mallow_duplicates\u001b[0m \u001b[0;32mand\u001b[0m \u001b[0mcolumn\u001b[0m \u001b[0;32min\u001b[0m \u001b[0mself\u001b[0m\u001b[0;34m.\u001b[0m\u001b[0mcolumns\u001b[0m\u001b[0;34m:\u001b[0m\u001b[0;34m\u001b[0m\u001b[0;34m\u001b[0m\u001b[0m\n\u001b[1;32m   4442\u001b[0m             \u001b[0;31m# Should this be a different kind of error??\u001b[0m\u001b[0;34m\u001b[0m\u001b[0;34m\u001b[0m\u001b[0m\n\u001b[0;32m-> 4443\u001b[0;31m             \u001b[0;32mraise\u001b[0m \u001b[0mValueError\u001b[0m\u001b[0;34m(\u001b[0m\u001b[0;34mf\"cannot insert {column}, already exists\"\u001b[0m\u001b[0;34m)\u001b[0m\u001b[0;34m\u001b[0m\u001b[0;34m\u001b[0m\u001b[0m\n\u001b[0m\u001b[1;32m   4444\u001b[0m         \u001b[0;32mif\u001b[0m \u001b[0;32mnot\u001b[0m \u001b[0misinstance\u001b[0m\u001b[0;34m(\u001b[0m\u001b[0mloc\u001b[0m\u001b[0;34m,\u001b[0m \u001b[0mint\u001b[0m\u001b[0;34m)\u001b[0m\u001b[0;34m:\u001b[0m\u001b[0;34m\u001b[0m\u001b[0;34m\u001b[0m\u001b[0m\n\u001b[1;32m   4445\u001b[0m             \u001b[0;32mraise\u001b[0m \u001b[0mTypeError\u001b[0m\u001b[0;34m(\u001b[0m\u001b[0;34m\"loc must be int\"\u001b[0m\u001b[0;34m)\u001b[0m\u001b[0;34m\u001b[0m\u001b[0;34m\u001b[0m\u001b[0m\n\u001b[1;32m   4446\u001b[0m \u001b[0;34m\u001b[0m\u001b[0m\n",
      "\u001b[0;31mValueError\u001b[0m: cannot insert Median Freq, already exists"
     ]
    }
   ],
   "source": [
    "# Should insert median frequency\n",
    "usv_accept_df.insert(4, \"Median Freq\", usv_accept_df.Freq_Min+0.5*(usv_accept_df.Freq_Range))\n",
    "# usv_accept_df"
   ]
  },
  {
   "cell_type": "code",
   "execution_count": 76,
   "id": "9c70057a-47f6-4e9d-a629-18ddb3742c99",
   "metadata": {},
   "outputs": [
    {
     "data": {
      "text/plain": [
       "<Axes: xlabel='Begin_Time', ylabel='Median Freq'>"
      ]
     },
     "execution_count": 76,
     "metadata": {},
     "output_type": "execute_result"
    },
    {
     "data": {
      "image/png": "[encoded data removed]",
      "text/plain": [
       "<Figure size 640x480 with 1 Axes>"
      ]
     },
     "metadata": {},
     "output_type": "display_data"
    }
   ],
   "source": [
    "sns.barplot(x='Begin_Time',y=\"Median Freq\",data=usv_accept_df)"
   ]
  }
 ],
 "metadata": {
  "kernelspec": {
   "display_name": "Python 3 (ipykernel)",
   "language": "python",
   "name": "python3"
  },
  "language_info": {
   "codemirror_mode": {
    "name": "ipython",
    "version": 3
   },
   "file_extension": ".py",
   "mimetype": "text/x-python",
   "name": "python",
   "nbconvert_exporter": "python",
   "pygments_lexer": "ipython3",
   "version": "3.11.6"
  },
  "widgets": {
   "application/vnd.jupyter.widget-state+json": {
    "state": {},
    "version_major": 2,
    "version_minor": 0
   }
  }
 },
 "nbformat": 4,
 "nbformat_minor": 5
}
